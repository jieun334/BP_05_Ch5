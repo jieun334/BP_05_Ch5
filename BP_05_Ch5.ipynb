{
  "nbformat": 4,
  "nbformat_minor": 0,
  "metadata": {
    "colab": {
      "provenance": [],
      "authorship_tag": "ABX9TyPQNKnVGYdr+O5ANDbgbhCC",
      "include_colab_link": true
    },
    "kernelspec": {
      "name": "python3",
      "display_name": "Python 3"
    },
    "language_info": {
      "name": "python"
    }
  },
  "cells": [
    {
      "cell_type": "markdown",
      "metadata": {
        "id": "view-in-github",
        "colab_type": "text"
      },
      "source": [
        "<a href=\"https://colab.research.google.com/github/jieun334/BP_05_Ch5/blob/main/BP_05_Ch5.ipynb\" target=\"_parent\"><img src=\"https://colab.research.google.com/assets/colab-badge.svg\" alt=\"Open In Colab\"/></a>"
      ]
    },
    {
      "cell_type": "markdown",
      "source": [
        "1. 다음 프로그램의 출력은 무엇인가?"
      ],
      "metadata": {
        "id": "ccpv8FapfQGr"
      }
    },
    {
      "cell_type": "code",
      "source": [
        "age = 20\n",
        "if age < 20:\n",
        "  print(\"20살 미만\")\n",
        "else:\n",
        "  print(\"20살 이상\")  "
      ],
      "metadata": {
        "colab": {
          "base_uri": "https://localhost:8080/"
        },
        "id": "HERzfVVTfcAC",
        "outputId": "e09a3643-c147-4e8b-b86c-327781a22dae"
      },
      "execution_count": 1,
      "outputs": [
        {
          "output_type": "stream",
          "name": "stdout",
          "text": [
            "20살 이상\n"
          ]
        }
      ]
    },
    {
      "cell_type": "markdown",
      "source": [
        "2. 1번 문제에서 age가 30 이상이고 50 이하인 것을 체크하려면 어떻게 하여야 하는가?"
      ],
      "metadata": {
        "id": "o0ZrwMp7f3nU"
      }
    },
    {
      "cell_type": "code",
      "source": [
        "age = 20\n",
        "if age >= 30 and age <= 50:\n",
        "    print(\"30살 이상이고 50살 이하\")"
      ],
      "metadata": {
        "id": "cHaK7Kdbf9t6"
      },
      "execution_count": 5,
      "outputs": []
    },
    {
      "cell_type": "markdown",
      "source": [
        "3. 사용자에게 현재 온도를 질문하고 온도가 25도 이상이면 반바지를 추천하고 25도 미만이면 긴바지를 추천하는 프로그램을 작성해보자."
      ],
      "metadata": {
        "id": "hpoDZl6Vg-Eq"
      }
    },
    {
      "cell_type": "code",
      "source": [
        "temp = int(input(\"현재 온도를 입력하시오 : \"))\n",
        "\n",
        "if temp >= 25:\n",
        "    print(\"반바지를 입으세요.\")\n",
        "else:\n",
        "   print(\"긴바지를 입으세요.\")"
      ],
      "metadata": {
        "colab": {
          "base_uri": "https://localhost:8080/"
        },
        "id": "skCP8qq6hGHK",
        "outputId": "7d907ed1-94d9-4970-e26f-89b22baa83e5"
      },
      "execution_count": 6,
      "outputs": [
        {
          "output_type": "stream",
          "name": "stdout",
          "text": [
            "현재 온도를 입력하시오 : 10\n",
            "긴바지를 입으세요.\n"
          ]
        }
      ]
    },
    {
      "cell_type": "markdown",
      "source": [
        "4. 학생의 시험 점수를 물어보고 시험 점수가 90점 이상이면 A, 80점 이상이면 B, 70점 이상이면 C, 60점 이상이면 D, 그외의 점수이면 F를 학점으로 주는 프로그램을 작성하라."
      ],
      "metadata": {
        "id": "79Dii6CphcZL"
      }
    },
    {
      "cell_type": "code",
      "source": [
        "score = int(input(\"성적을 입력하시오 : \"))\n",
        "\n",
        "if score >= 90:\n",
        "   print(\"A학점입니다.\")\n",
        "elif score >= 80:\n",
        "   print(\"B학점입니다.\")\n",
        "elif score >= 70:\n",
        "   print(\"C학점입니다.\")\n",
        "elif score >= 60:\n",
        "   print(\"D학점입니다.\")\n",
        "else:\n",
        "   print(\"F학점입니다.\")"
      ],
      "metadata": {
        "colab": {
          "base_uri": "https://localhost:8080/"
        },
        "id": "2SvwxWsNhovO",
        "outputId": "a0914ac6-0736-49d4-93a8-d0f404d6ca8a"
      },
      "execution_count": 7,
      "outputs": [
        {
          "output_type": "stream",
          "name": "stdout",
          "text": [
            "성적을 입력하시오 : 100\n",
            "A학점입니다.\n"
          ]
        }
      ]
    },
    {
      "cell_type": "markdown",
      "source": [
        "5. 난수를 사용하여 1부터 100 사이의 숫자를 사용하는 뺄셈 문제를 생성하고 사용자에게 물어본 후에 사용자의 답변이 올바른지를 검사하는 프로그램을 작성하라."
      ],
      "metadata": {
        "id": "X2ZwS34DiV4j"
      }
    },
    {
      "cell_type": "code",
      "source": [
        "import random\n",
        "x = random.randint(1, 100)\n",
        "y = random.randint(1, 100)\n",
        "\n",
        "ans = int(input(str(x)+\"-\"+str(y)+\"=\"))\n",
        "\n",
        "if ans == x - y :\n",
        "    print(\"맞았습니다.\")\n",
        "else:\n",
        "    print(\"틀렸습니다.\")"
      ],
      "metadata": {
        "colab": {
          "base_uri": "https://localhost:8080/"
        },
        "id": "VcI2UpBtifz8",
        "outputId": "2a6db174-7e77-4cab-d78f-ce9c039b6b48"
      },
      "execution_count": 8,
      "outputs": [
        {
          "output_type": "stream",
          "name": "stdout",
          "text": [
            "57-6=51\n",
            "맞았습니다.\n"
          ]
        }
      ]
    },
    {
      "cell_type": "markdown",
      "source": [
        "6. 사용자로부터 정수를 받아서 이 정수가 2와 3으로 나누어떨어질 수 있는지를 출력하라."
      ],
      "metadata": {
        "id": "TzDpbjUWi9V2"
      }
    },
    {
      "cell_type": "code",
      "source": [
        "n = int(input(\"정수를 입력하시오 : \"))\n",
        "\n",
        "if n%2==0 and n%3==0:\n",
        "    print(\"2와 3으로 나누어 떨어집니다.\")\n",
        "else:\n",
        "    print(\"2와 3으로 나누어 떨어지지 않습니다.\")"
      ],
      "metadata": {
        "colab": {
          "base_uri": "https://localhost:8080/"
        },
        "id": "xUJNVtBejPDF",
        "outputId": "7f285776-d527-4265-f8a9-019f94e3cbb6"
      },
      "execution_count": 10,
      "outputs": [
        {
          "output_type": "stream",
          "name": "stdout",
          "text": [
            "정수를 입력하시오 : 6\n",
            "2와 3으로 나누어 떨어집니다.\n"
          ]
        }
      ]
    },
    {
      "cell_type": "markdown",
      "source": [
        "7. 2자리 숫자로 이루어진 복권이 있다. 사용자가 가지고 있는 복권 번호가 2자리 모두 일치하면 100만원을 받는다. 2자리 중에서 하나만 일치하면 50만원을 받는다. 하나도 일치하지 않으면 상금은 없다. 복권 당첨 번호는 난수로 생성하고 사용자의 입력에 따라서 상금이 얼마인지를 출력하는 프로그램을 작성하라."
      ],
      "metadata": {
        "id": "PlUaTt2ujhtd"
      }
    },
    {
      "cell_type": "code",
      "source": [
        "import random\n",
        "\n",
        "solution = random.randint(0, 99)\n",
        "\n",
        "user = int(input(\"복권번호를 입력하시오(0에서 99 사이) : \"))\n",
        "\n",
        "digit1 = solution // 10\n",
        "digit2 = solution % 10\n",
        "\n",
        "u_digit1 = user // 10\n",
        "u_digit2 = user % 10\n",
        "\n",
        "print(\"당첨번호는\", solution, \"입니다.\")\n",
        "\n",
        "if (digit1 == u_digit1 and digit2 == u_digit2):\n",
        "    print(\"상금은 100만원입니다.\")\n",
        "elif (digit1 == u_digit1\n",
        "       or digit1 == u_digit2\n",
        "       or digit2 == u_digit1\n",
        "       or digit2 == u_digit2):\n",
        "    print(\"상금은 50만원입니다.\")\n",
        "else:\n",
        "   print(\"상금은 없습니다.\")"
      ],
      "metadata": {
        "colab": {
          "base_uri": "https://localhost:8080/"
        },
        "id": "Li9_GwIWjwF6",
        "outputId": "ddd4d40f-20bc-4b7f-aabe-c87775584c10"
      },
      "execution_count": 11,
      "outputs": [
        {
          "output_type": "stream",
          "name": "stdout",
          "text": [
            "복권번호를 입력하시오(0에서 99 사이) : 87\n",
            "당첨번호는 44 입니다.\n",
            "상금은 없습니다.\n"
          ]
        }
      ]
    },
    {
      "cell_type": "markdown",
      "source": [
        "8. 사용자로부터 2개의 원에 대한 정보를 받아서 화면에 원을 그린 후에 조건문을 사용하여 큰 원 안에 작은 원이 포함되는지를 판단하는 프로그램을 작성하라."
      ],
      "metadata": {
        "id": "iKz6dtyNl2YZ"
      }
    },
    {
      "cell_type": "code",
      "source": [
        "import turtle\n",
        "t = turtle.Turtle()\n",
        "t.shape(\"turtle\")\n",
        "\n",
        "x1 = int(input(\"큰 원의 중심좌표 x1 : \"))\n",
        "큰 원의 중심좌표 x1 : 0\n",
        "y1 = int(input(\"큰 원의 중심좌표 y1 : \"))\n",
        "큰 원의 중심좌표 y1 : 0\n",
        "r1 = int(input(\"큰 원의 반지름 : \"))\n",
        "큰 원의 반지름 : 100\n",
        "x2 = int(input(\"작은 원의 중심좌표 x2 : \"))\n",
        "작은 원의 중심좌표 x2 : 10\n",
        "y2 = int(input(\"작은 원의 중심좌표 y2 : \"))\n",
        "작은 원의 중심좌표 y2 : 10\n",
        "r2 = int(input(\"작은 원의 반지름 : \"))\n",
        "작은 원의 반지름 : 50\n",
        "\n",
        "t.penup()\n",
        "t.goto(x1, y1)\n",
        "t.pendown()\n",
        "t.circle(r1)\n",
        "\n",
        "t.penup()\n",
        "t.goto(x2, y2)\n",
        "t.pendown()\n",
        "t.circle(r2)\n",
        "\n",
        "dist = ((x1 - x2) * (x1 - x2) + (y1 - y2) * (y1 - y2)) ** 0.5\n",
        "if dist <= r1-r2:\n",
        "    turtle.write(\"두 번째 원이 첫 번째 원의 내부에 있습니다.\")\n",
        "elif dist <= r1+r2:\n",
        "    turtle.write(\"두 번째 원이 첫 번째 원과 겹칩니다.\")\n",
        "else:\n",
        "    turtle.write(\"두 번째 원이 첫 번째 원과 겹치지 않습니다.\")\n",
        "t._screen.exitonclick()"
      ],
      "metadata": {
        "id": "Hvl53Yeyl-Vn"
      },
      "execution_count": null,
      "outputs": []
    }
  ]
}